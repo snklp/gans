{
 "cells": [
  {
   "cell_type": "markdown",
   "id": "57d412f1",
   "metadata": {},
   "source": [
    "### WGAN using weight clipping"
   ]
  },
  {
   "cell_type": "code",
   "execution_count": 21,
   "id": "9742e887",
   "metadata": {},
   "outputs": [
    {
     "name": "stdout",
     "output_type": "stream",
     "text": [
      "Populating the interactive namespace from numpy and matplotlib\n",
      "The tensorboard extension is already loaded. To reload it, use:\n",
      "  %reload_ext tensorboard\n"
     ]
    },
    {
     "name": "stderr",
     "output_type": "stream",
     "text": [
      "C:\\Users\\sankalp\\anaconda3\\lib\\site-packages\\IPython\\core\\magics\\pylab.py:159: UserWarning: pylab import has clobbered these variables: ['real', 'Generator', 'step']\n",
      "`%matplotlib` prevents importing * from pylab and numpy\n",
      "  warn(\"pylab import has clobbered these variables: %s\"  % clobbered +\n"
     ]
    }
   ],
   "source": [
    "import torch\n",
    "import torch.nn as nn\n",
    "import torchvision.transforms as transforms\n",
    "import torchvision.datasets as datasets\n",
    "from torch.utils.data import DataLoader\n",
    "import torch.optim as optim\n",
    "\n",
    "from torch.utils.tensorboard import SummaryWriter\n",
    "from torchvision.utils import make_grid\n",
    "%pylab inline\n",
    "%load_ext tensorboard"
   ]
  },
  {
   "cell_type": "code",
   "execution_count": 22,
   "id": "ba7ddd8a",
   "metadata": {},
   "outputs": [],
   "source": [
    "# Disciminator\n",
    "\n",
    "class Critic(nn.Module):\n",
    "    def __init__(self, img_ch=1, hidden_dim=16):\n",
    "        super().__init__()\n",
    "        self.critic = nn.Sequential(self.block(img_ch, hidden_dim),\n",
    "                                 self.block(hidden_dim, hidden_dim*2),\n",
    "                                 nn.Conv2d(hidden_dim*2, 1, 4, 2))\n",
    "        \n",
    "    def block(self, in_channel, op_channel, kernel_size=4, stride=2):\n",
    "        return nn.Sequential(nn.Conv2d(in_channel, op_channel, kernel_size, stride),\n",
    "                            nn.BatchNorm2d(op_channel),\n",
    "                            nn.LeakyReLU(0.2))\n",
    "    \n",
    "    def forward(self, x):return self.critic(x)\n",
    "    \n",
    "# GENERAtor\n",
    "\n",
    "class Generator(nn.Module):\n",
    "    def __init__(self, z_dim, img_ch=1, hidden_dim=64):\n",
    "        super().__init__()\n",
    "        self.gen = nn.Sequential(self.block(z_dim, hidden_dim*4),\n",
    "                                self.block(hidden_dim*4, hidden_dim*2),\n",
    "                                self.block(hidden_dim*2, hidden_dim),\n",
    "                                nn.ConvTranspose2d(hidden_dim, img_ch, 3, 2),\n",
    "                                nn.Tanh())\n",
    "        \n",
    "    def block(self, in_channel, op_channel, kernel_size=3, stride=2):\n",
    "        return nn.Sequential(nn.ConvTranspose2d(in_channel, op_channel, kernel_size, stride),\n",
    "                            nn.BatchNorm2d(op_channel),\n",
    "                            nn.ReLU())\n",
    "    \n",
    "    def forward(self, x):return self.gen(x)"
   ]
  },
  {
   "cell_type": "code",
   "execution_count": 23,
   "id": "ce8b0276",
   "metadata": {},
   "outputs": [],
   "source": [
    "device = 'cuda' if torch.cuda.is_available() else 'cpu'"
   ]
  },
  {
   "cell_type": "code",
   "execution_count": 24,
   "id": "2cdb6b3a",
   "metadata": {},
   "outputs": [],
   "source": [
    "z_dim = 64\n",
    "batch_size = 128\n",
    "lr = 0.0002\n",
    "critic_iters = 5\n",
    "weights_clip = 0.01"
   ]
  },
  {
   "cell_type": "code",
   "execution_count": 25,
   "id": "455e2ee3",
   "metadata": {},
   "outputs": [],
   "source": [
    "transform = transforms.Compose([transforms.ToTensor(),\n",
    "                               transforms.Normalize((0.5), (0.5))])\n",
    "\n",
    "dataset = datasets.MNIST(r\"C:\\Users\\sankalp\\Desktop\\Computer Vision\\GAN\\Data\", download=True, transform=transform)\n",
    "\n",
    "dataloader = DataLoader(dataset, batch_size=batch_size, shuffle=True)"
   ]
  },
  {
   "cell_type": "code",
   "execution_count": 26,
   "id": "eec6f47f",
   "metadata": {},
   "outputs": [],
   "source": [
    "critic = Critic().to(device)\n",
    "gen = Generator(z_dim).to(device)"
   ]
  },
  {
   "cell_type": "code",
   "execution_count": 27,
   "id": "d1635279",
   "metadata": {},
   "outputs": [],
   "source": [
    "optim_critic = optim.RMSprop(critic.parameters(), lr=lr)\n",
    "optim_gen = optim.RMSprop(gen.parameters(), lr=lr)"
   ]
  },
  {
   "cell_type": "code",
   "execution_count": 28,
   "id": "76023165",
   "metadata": {},
   "outputs": [],
   "source": [
    "# WEIGHTS\n",
    "\n",
    "def weights_init(m):\n",
    "    if isinstance(m, nn.Conv2d) or isinstance(m, nn.ConvTranspose2d):\n",
    "        nn.init.normal_(m.weight, 0.0, 0.02)\n",
    "    if isinstance(m, nn.BatchNorm2d):\n",
    "        nn.init.normal_(m.weight, 0.0, 0.02)\n",
    "        nn.init.constant_(m.bias, 0)\n",
    "        \n",
    "# Applying WEIGHTS\n",
    "\n",
    "critic = critic.apply(weights_init)\n",
    "gen = gen.apply(weights_init)"
   ]
  },
  {
   "cell_type": "code",
   "execution_count": 29,
   "id": "4e035e4b",
   "metadata": {},
   "outputs": [],
   "source": [
    "num_epochs = 50\n",
    "test_noise = torch.randn(batch_size, z_dim, 1, 1)"
   ]
  },
  {
   "cell_type": "code",
   "execution_count": 30,
   "id": "f161538f",
   "metadata": {},
   "outputs": [],
   "source": [
    "summary_fake = SummaryWriter(f'logs_dcgan/fake')\n",
    "summary_real = SummaryWriter(f'logs_dcgan/real')\n",
    "\n",
    "test_noise = torch.randn(batch_size, z_dim, 1, 1).to(device)\n",
    "step = 0"
   ]
  },
  {
   "cell_type": "code",
   "execution_count": 31,
   "id": "b95a0e29",
   "metadata": {},
   "outputs": [
    {
     "data": {
      "text/plain": [
       "Reusing TensorBoard on port 6006 (pid 12840), started 1 day, 1:44:55 ago. (Use '!kill 12840' to kill it.)"
      ]
     },
     "metadata": {},
     "output_type": "display_data"
    },
    {
     "data": {
      "text/html": [
       "\n",
       "      <iframe id=\"tensorboard-frame-da5ce77e92e57adf\" width=\"100%\" height=\"800\" frameborder=\"0\">\n",
       "      </iframe>\n",
       "      <script>\n",
       "        (function() {\n",
       "          const frame = document.getElementById(\"tensorboard-frame-da5ce77e92e57adf\");\n",
       "          const url = new URL(\"/\", window.location);\n",
       "          const port = 6006;\n",
       "          if (port) {\n",
       "            url.port = port;\n",
       "          }\n",
       "          frame.src = url;\n",
       "        })();\n",
       "      </script>\n",
       "    "
      ],
      "text/plain": [
       "<IPython.core.display.HTML object>"
      ]
     },
     "metadata": {},
     "output_type": "display_data"
    }
   ],
   "source": [
    "%tensorboard --logdir logs_dcgan"
   ]
  },
  {
   "cell_type": "code",
   "execution_count": 32,
   "id": "ebeeb359",
   "metadata": {},
   "outputs": [
    {
     "ename": "KeyboardInterrupt",
     "evalue": "",
     "output_type": "error",
     "traceback": [
      "\u001b[1;31m---------------------------------------------------------------------------\u001b[0m",
      "\u001b[1;31mKeyboardInterrupt\u001b[0m                         Traceback (most recent call last)",
      "\u001b[1;32m<ipython-input-32-dd30232679ee>\u001b[0m in \u001b[0;36m<module>\u001b[1;34m\u001b[0m\n\u001b[0;32m      9\u001b[0m             \u001b[0mloss_crtic\u001b[0m \u001b[1;33m=\u001b[0m \u001b[1;33m-\u001b[0m\u001b[1;33m(\u001b[0m\u001b[0mtorch\u001b[0m\u001b[1;33m.\u001b[0m\u001b[0mmean\u001b[0m\u001b[1;33m(\u001b[0m\u001b[0mcritic_real\u001b[0m\u001b[1;33m)\u001b[0m \u001b[1;33m-\u001b[0m \u001b[0mtorch\u001b[0m\u001b[1;33m.\u001b[0m\u001b[0mmean\u001b[0m\u001b[1;33m(\u001b[0m\u001b[0mcritic_fake\u001b[0m\u001b[1;33m)\u001b[0m\u001b[1;33m)\u001b[0m \u001b[1;31m# - due to maximization of loss wrt critic\u001b[0m\u001b[1;33m\u001b[0m\u001b[1;33m\u001b[0m\u001b[0m\n\u001b[0;32m     10\u001b[0m             \u001b[0mcritic\u001b[0m\u001b[1;33m.\u001b[0m\u001b[0mzero_grad\u001b[0m\u001b[1;33m(\u001b[0m\u001b[1;33m)\u001b[0m\u001b[1;33m\u001b[0m\u001b[1;33m\u001b[0m\u001b[0m\n\u001b[1;32m---> 11\u001b[1;33m             \u001b[0mloss_crtic\u001b[0m\u001b[1;33m.\u001b[0m\u001b[0mbackward\u001b[0m\u001b[1;33m(\u001b[0m\u001b[0mretain_graph\u001b[0m\u001b[1;33m=\u001b[0m\u001b[1;32mTrue\u001b[0m\u001b[1;33m)\u001b[0m\u001b[1;33m\u001b[0m\u001b[1;33m\u001b[0m\u001b[0m\n\u001b[0m\u001b[0;32m     12\u001b[0m             \u001b[0moptim_critic\u001b[0m\u001b[1;33m.\u001b[0m\u001b[0mstep\u001b[0m\u001b[1;33m(\u001b[0m\u001b[1;33m)\u001b[0m\u001b[1;33m\u001b[0m\u001b[1;33m\u001b[0m\u001b[0m\n\u001b[0;32m     13\u001b[0m \u001b[1;33m\u001b[0m\u001b[0m\n",
      "\u001b[1;32m~\\anaconda3\\lib\\site-packages\\torch\\_tensor.py\u001b[0m in \u001b[0;36mbackward\u001b[1;34m(self, gradient, retain_graph, create_graph, inputs)\u001b[0m\n\u001b[0;32m    253\u001b[0m                 \u001b[0mcreate_graph\u001b[0m\u001b[1;33m=\u001b[0m\u001b[0mcreate_graph\u001b[0m\u001b[1;33m,\u001b[0m\u001b[1;33m\u001b[0m\u001b[1;33m\u001b[0m\u001b[0m\n\u001b[0;32m    254\u001b[0m                 inputs=inputs)\n\u001b[1;32m--> 255\u001b[1;33m         \u001b[0mtorch\u001b[0m\u001b[1;33m.\u001b[0m\u001b[0mautograd\u001b[0m\u001b[1;33m.\u001b[0m\u001b[0mbackward\u001b[0m\u001b[1;33m(\u001b[0m\u001b[0mself\u001b[0m\u001b[1;33m,\u001b[0m \u001b[0mgradient\u001b[0m\u001b[1;33m,\u001b[0m \u001b[0mretain_graph\u001b[0m\u001b[1;33m,\u001b[0m \u001b[0mcreate_graph\u001b[0m\u001b[1;33m,\u001b[0m \u001b[0minputs\u001b[0m\u001b[1;33m=\u001b[0m\u001b[0minputs\u001b[0m\u001b[1;33m)\u001b[0m\u001b[1;33m\u001b[0m\u001b[1;33m\u001b[0m\u001b[0m\n\u001b[0m\u001b[0;32m    256\u001b[0m \u001b[1;33m\u001b[0m\u001b[0m\n\u001b[0;32m    257\u001b[0m     \u001b[1;32mdef\u001b[0m \u001b[0mregister_hook\u001b[0m\u001b[1;33m(\u001b[0m\u001b[0mself\u001b[0m\u001b[1;33m,\u001b[0m \u001b[0mhook\u001b[0m\u001b[1;33m)\u001b[0m\u001b[1;33m:\u001b[0m\u001b[1;33m\u001b[0m\u001b[1;33m\u001b[0m\u001b[0m\n",
      "\u001b[1;32m~\\anaconda3\\lib\\site-packages\\torch\\autograd\\__init__.py\u001b[0m in \u001b[0;36mbackward\u001b[1;34m(tensors, grad_tensors, retain_graph, create_graph, grad_variables, inputs)\u001b[0m\n\u001b[0;32m    145\u001b[0m         \u001b[0mretain_graph\u001b[0m \u001b[1;33m=\u001b[0m \u001b[0mcreate_graph\u001b[0m\u001b[1;33m\u001b[0m\u001b[1;33m\u001b[0m\u001b[0m\n\u001b[0;32m    146\u001b[0m \u001b[1;33m\u001b[0m\u001b[0m\n\u001b[1;32m--> 147\u001b[1;33m     Variable._execution_engine.run_backward(\n\u001b[0m\u001b[0;32m    148\u001b[0m         \u001b[0mtensors\u001b[0m\u001b[1;33m,\u001b[0m \u001b[0mgrad_tensors_\u001b[0m\u001b[1;33m,\u001b[0m \u001b[0mretain_graph\u001b[0m\u001b[1;33m,\u001b[0m \u001b[0mcreate_graph\u001b[0m\u001b[1;33m,\u001b[0m \u001b[0minputs\u001b[0m\u001b[1;33m,\u001b[0m\u001b[1;33m\u001b[0m\u001b[1;33m\u001b[0m\u001b[0m\n\u001b[0;32m    149\u001b[0m         allow_unreachable=True, accumulate_grad=True)  # allow_unreachable flag\n",
      "\u001b[1;31mKeyboardInterrupt\u001b[0m: "
     ]
    }
   ],
   "source": [
    "for epoch in range(num_epochs):\n",
    "    for batch_idx, (real, _) in enumerate(dataloader):\n",
    "        real = real.to(device)\n",
    "        for _ in range(critic_iters):\n",
    "            noise = torch.randn(batch_size, z_dim, 1, 1).to(device)\n",
    "            fake = gen(noise)\n",
    "            critic_fake = critic(fake).reshape(-1)\n",
    "            critic_real = critic(real).reshape(-1)\n",
    "            loss_crtic = -(torch.mean(critic_real) - torch.mean(critic_fake)) # - due to maximization of loss wrt critic\n",
    "            critic.zero_grad()\n",
    "            loss_crtic.backward(retain_graph=True)\n",
    "            optim_critic.step()\n",
    "            \n",
    "            for m in critic.parameters():\n",
    "                m.data.clamp_(-weights_clip, weights_clip)\n",
    "                \n",
    "        output = critic(fake)\n",
    "        loss_gen = -(torch.mean(output))\n",
    "        gen.zero_grad()\n",
    "        loss_gen.backward()\n",
    "        optim_gen.step()\n",
    "        \n",
    "        if batch_idx == 0:\n",
    "            with torch.no_grad():\n",
    "                fake = gen(test_noise)\n",
    "                summary_fake.add_image('Fake', make_grid(fake, normalize=True), global_step=step)\n",
    "                summary_real.add_image('Real', make_grid(real, normalize=True), global_step=step)\n",
    "            step += 1"
   ]
  },
  {
   "cell_type": "code",
   "execution_count": null,
   "id": "f356755c",
   "metadata": {},
   "outputs": [],
   "source": []
  },
  {
   "cell_type": "code",
   "execution_count": null,
   "id": "8dea1319",
   "metadata": {},
   "outputs": [],
   "source": []
  }
 ],
 "metadata": {
  "kernelspec": {
   "display_name": "Python 3",
   "language": "python",
   "name": "python3"
  },
  "language_info": {
   "codemirror_mode": {
    "name": "ipython",
    "version": 3
   },
   "file_extension": ".py",
   "mimetype": "text/x-python",
   "name": "python",
   "nbconvert_exporter": "python",
   "pygments_lexer": "ipython3",
   "version": "3.8.3"
  }
 },
 "nbformat": 4,
 "nbformat_minor": 5
}
